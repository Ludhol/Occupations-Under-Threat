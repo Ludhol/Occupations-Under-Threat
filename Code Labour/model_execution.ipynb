{
 "cells": [
  {
   "cell_type": "markdown",
   "metadata": {},
   "source": [
    "# This notebook takes the data and conducts the Automation Shock"
   ]
  },
  {
   "cell_type": "code",
   "execution_count": 34,
   "metadata": {},
   "outputs": [],
   "source": [
    "# Required packages\n",
    "import matplotlib.pyplot as plt\n",
    "from matplotlib.patches import Patch\n",
    "import networkx as nx\n",
    "import pandas as pd\n",
    "import numpy as np\n",
    "import scipy as sp\n",
    "import datetime as dt\n",
    "import community\n",
    "from shapely.geometry import Polygon\n",
    "\n",
    "\n",
    "import importlib\n",
    "import ddom\n",
    "\n",
    "import random\n",
    "import math\n",
    "\n",
    "import cmocean as cmo"
   ]
  },
  {
   "cell_type": "code",
   "execution_count": 35,
   "metadata": {},
   "outputs": [],
   "source": [
    "# Read the data from data_processing.ipynb\n",
    "sa_calibration_data = pd.read_csv('../Data_Labour/calibration_data.csv')\n",
    "employment_SSYK = pd.read_csv('../Data_Labour/occupational_employment.csv', sep = ',')\n",
    "SSYK_shock = pd.read_csv('../Data_Labour/occupation_shock.csv', sep = ',', index_col = 0)\n",
    "hours_data = pd.read_csv('../Data_Labour/hours_data.csv', sep = ',', index_col = 0)"
   ]
  },
  {
   "cell_type": "code",
   "execution_count": 33,
   "metadata": {},
   "outputs": [
    {
     "name": "stdout",
     "output_type": "stream",
     "text": [
      "ERROR: Should not calculate long term unemployment during a calibration run\n"
     ]
    }
   ],
   "source": [
    "importlib.reload(ddom)\n",
    "employment = employment_SSYK[['ssyk3', '2018']]\n",
    "employment = {str(employment['ssyk3'].iloc[i]):employment['2018'].iloc[i] for i in range(len(employment))}\n",
    "node_names = G.nodes()\n",
    "\n",
    "# setup network\n",
    "employed = {str(name):e for name,e in employment.items() if str(name) in node_names}\n",
    "unemployed = {name:0 for name in node_names}\n",
    "vacancies = {name:[] for name in node_names}\n",
    "\n",
    "target_demand = {str(name):e for name,e in employment.items() if str(name) in node_names}\n",
    "of_data = SSYK_shock.to_dict()['Computerisation Probability']\n",
    "of_data = {str(code):prob for code, prob in of_data.items()}\n",
    "\n",
    "attributes = {'employed':employed, 'unemployed':unemployed, 'vacancies':vacancies,\n",
    "                'target_demand':target_demand, 'comp_prob':of_data}\n",
    "\n",
    "# 0.026 delta_u: 0.011 delta_nu: 0.00042 gamma_u: 0.174 timestep: 16.6\n",
    "\n",
    "# Parameters\n",
    "a = 0.026\n",
    "delta_u = 0.011\n",
    "delta_nu = 0.00042\n",
    "gamma_u = 0.174\n",
    "gamma_nu = gamma_u\n",
    "timestep = 16.6\n",
    "period = 10.25\n",
    "shock_period = 30\n",
    "k = 0.79\n",
    "avg_hours_0 = hours_data.loc[2018,'average_hours/year']\n",
    "t_0 = 15\n",
    "\n",
    "\n",
    "output = ddom.deterministic_simulation(G, delta_u, delta_nu, gamma_u, gamma_nu, timestep, period, shock_period, k, avg_hours_0, t_0, attributes, True, calibration = True)"
   ]
  },
  {
   "cell_type": "code",
   "execution_count": 47,
   "metadata": {},
   "outputs": [
    {
     "name": "stdout",
     "output_type": "stream",
     "text": [
      "[0.005 0.007 0.009 0.011]\n"
     ]
    }
   ],
   "source": [
    "print(np.arange(0.005, 0.012, 0.002))"
   ]
  },
  {
   "cell_type": "code",
   "execution_count": 46,
   "metadata": {},
   "outputs": [
    {
     "name": "stdout",
     "output_type": "stream",
     "text": [
      "Simulation started at:  2020-05-17 15:21:51.986129\n",
      "Simulation completed 2020-05-17 20:03:49.491633\n",
      "Simulation took:  4:41:57.512389\n",
      "Simulation started at:  2020-05-17 20:03:50.795827\n"
     ]
    },
    {
     "ename": "KeyboardInterrupt",
     "evalue": "",
     "output_type": "error",
     "traceback": [
      "\u001b[0;31m---------------------------------------------------------------------------\u001b[0m",
      "\u001b[0;31mKeyboardInterrupt\u001b[0m                         Traceback (most recent call last)",
      "\u001b[0;32m<ipython-input-46-89237b644e62>\u001b[0m in \u001b[0;36m<module>\u001b[0;34m\u001b[0m\n\u001b[1;32m     48\u001b[0m     \u001b[0mG\u001b[0m \u001b[0;34m=\u001b[0m \u001b[0mnx\u001b[0m\u001b[0;34m.\u001b[0m\u001b[0mread_graphml\u001b[0m\u001b[0;34m(\u001b[0m\u001b[0;34m'../Data_Labour/Occ_mob_sweden.graphml'\u001b[0m\u001b[0;34m)\u001b[0m\u001b[0;34m\u001b[0m\u001b[0;34m\u001b[0m\u001b[0m\n\u001b[1;32m     49\u001b[0m     output_abm = ddom.simulation(G, delta_u, delta_nu, gamma_u, gamma_nu, timestep, \n\u001b[0;32m---> 50\u001b[0;31m                                  period, shock_period, k, avg_hours_0, t_0, attributes, complete_network = True)\n\u001b[0m\u001b[1;32m     51\u001b[0m     \u001b[0mvac_data\u001b[0m \u001b[0;34m=\u001b[0m \u001b[0mpd\u001b[0m\u001b[0;34m.\u001b[0m\u001b[0mDataFrame\u001b[0m\u001b[0;34m(\u001b[0m\u001b[0moutput_abm\u001b[0m\u001b[0;34m[\u001b[0m\u001b[0;34m'vacancy_data'\u001b[0m\u001b[0;34m]\u001b[0m\u001b[0;34m)\u001b[0m\u001b[0;34m\u001b[0m\u001b[0;34m\u001b[0m\u001b[0m\n\u001b[1;32m     52\u001b[0m     \u001b[0mu_data\u001b[0m \u001b[0;34m=\u001b[0m \u001b[0mpd\u001b[0m\u001b[0;34m.\u001b[0m\u001b[0mDataFrame\u001b[0m\u001b[0;34m(\u001b[0m\u001b[0moutput_abm\u001b[0m\u001b[0;34m[\u001b[0m\u001b[0;34m'unemployment_data'\u001b[0m\u001b[0;34m]\u001b[0m\u001b[0;34m)\u001b[0m\u001b[0;34m\u001b[0m\u001b[0;34m\u001b[0m\u001b[0m\n",
      "\u001b[0;32m~/MSc_Thesis/Code Labour/ddom.py\u001b[0m in \u001b[0;36msimulation\u001b[0;34m(G, delta_u, delta_nu, gamma_u, gamma_nu, timestep, period, shock_period, k, avg_hours_0, t_0, attributes, long_term, complete_network)\u001b[0m\n\u001b[1;32m    437\u001b[0m         \u001b[0;31m# Conduct the simulation steps:\u001b[0m\u001b[0;34m\u001b[0m\u001b[0;34m\u001b[0m\u001b[0;34m\u001b[0m\u001b[0m\n\u001b[1;32m    438\u001b[0m         \u001b[0;31m# First, accept applications from previous timestep\u001b[0m\u001b[0;34m\u001b[0m\u001b[0;34m\u001b[0m\u001b[0;34m\u001b[0m\u001b[0m\n\u001b[0;32m--> 439\u001b[0;31m         \u001b[0mhandle_applications\u001b[0m\u001b[0;34m(\u001b[0m\u001b[0mG\u001b[0m\u001b[0;34m)\u001b[0m\u001b[0;34m\u001b[0m\u001b[0;34m\u001b[0m\u001b[0m\n\u001b[0m\u001b[1;32m    440\u001b[0m \u001b[0;34m\u001b[0m\u001b[0m\n\u001b[1;32m    441\u001b[0m         \u001b[0;31m# Then, let the (unemployed) workers that were not accepted or did not apply last timestep, apply to vacancies\u001b[0m\u001b[0;34m\u001b[0m\u001b[0;34m\u001b[0m\u001b[0;34m\u001b[0m\u001b[0m\n",
      "\u001b[0;32m~/MSc_Thesis/Code Labour/ddom.py\u001b[0m in \u001b[0;36mhandle_applications\u001b[0;34m(G)\u001b[0m\n\u001b[1;32m    173\u001b[0m                 \u001b[0;32mcontinue\u001b[0m\u001b[0;34m\u001b[0m\u001b[0;34m\u001b[0m\u001b[0m\n\u001b[1;32m    174\u001b[0m             \u001b[0;31m# A random application is chosen (and removed from the list of applications)\u001b[0m\u001b[0;34m\u001b[0m\u001b[0;34m\u001b[0m\u001b[0;34m\u001b[0m\u001b[0m\n\u001b[0;32m--> 175\u001b[0;31m             \u001b[0maccepted\u001b[0m \u001b[0;34m=\u001b[0m \u001b[0mnp\u001b[0m\u001b[0;34m.\u001b[0m\u001b[0mrandom\u001b[0m\u001b[0;34m.\u001b[0m\u001b[0mchoice\u001b[0m\u001b[0;34m(\u001b[0m\u001b[0mvac\u001b[0m\u001b[0;34m)\u001b[0m\u001b[0;34m\u001b[0m\u001b[0;34m\u001b[0m\u001b[0m\n\u001b[0m\u001b[1;32m    176\u001b[0m             \u001b[0;31m# Increase the amount of employed people in the occupation by the number of filled vacancies\u001b[0m\u001b[0;34m\u001b[0m\u001b[0;34m\u001b[0m\u001b[0;34m\u001b[0m\u001b[0m\n\u001b[1;32m    177\u001b[0m             \u001b[0memp_dict\u001b[0m\u001b[0;34m[\u001b[0m\u001b[0moccupation\u001b[0m\u001b[0;34m]\u001b[0m \u001b[0;34m+=\u001b[0m \u001b[0;36m1\u001b[0m\u001b[0;34m\u001b[0m\u001b[0;34m\u001b[0m\u001b[0m\n",
      "\u001b[0;32mmtrand.pyx\u001b[0m in \u001b[0;36mnumpy.random.mtrand.RandomState.choice\u001b[0;34m()\u001b[0m\n",
      "\u001b[0;31mKeyboardInterrupt\u001b[0m: "
     ]
    }
   ],
   "source": [
    "employment = employment_SSYK[['ssyk3', '2016']]\n",
    "employment = {str(employment['ssyk3'].iloc[i]):employment['2016'].iloc[i] for i in range(len(employment))}\n",
    "node_names = G.nodes()\n",
    "\n",
    "importlib.reload(ddom)\n",
    "\n",
    "\n",
    "# setup network\n",
    "employed = {str(name):e for name,e in employment.items() if str(name) in node_names}\n",
    "unemployed = {name:0 for name in node_names}\n",
    "vacancies = {name:[] for name in node_names}\n",
    "\n",
    "target_demand = {str(name):e for name,e in employment.items() if str(name) in node_names}\n",
    "of_data = SSYK_shock.to_dict()['Computerisation Probability']\n",
    "of_data = {str(code):prob for code, prob in of_data.items()}\n",
    "\n",
    "attributes = {'employed':employed, 'unemployed':unemployed, 'vacancies':vacancies,\n",
    "                'target_demand':target_demand, 'comp_prob':of_data}\n",
    "\n",
    "# Parameters short calibration\n",
    "#delta_u = 0.009\n",
    "#delta_nu = 0.002\n",
    "#gamma_u = 0.1\n",
    "#gamma_nu = gamma_u\n",
    "#timestep = 14\n",
    "\n",
    "# Paramters long calibration (currently running)\n",
    "delta_u = 0.011\n",
    "delta_nu = 0.005\n",
    "gamma_u = 0.1\n",
    "gamma_nu = gamma_u\n",
    "timestep = 8\n",
    "\n",
    "# General parameters\n",
    "period = 10.25\n",
    "shock_period = 30\n",
    "k = 0.79\n",
    "avg_hours_0 = hours_data.loc[2016,'average_hours/year']\n",
    "t_0 = shock_period/2\n",
    "\n",
    "vac_datalist = []\n",
    "u_datalist = []\n",
    "e_datalist = []\n",
    "td_datalist = []\n",
    "lt_u_datalist = []\n",
    "\n",
    "for i in range(1,5):\n",
    "    G = nx.read_graphml('../Data_Labour/Occ_mob_sweden.graphml')\n",
    "    output_abm = ddom.simulation(G, delta_u, delta_nu, gamma_u, gamma_nu, timestep, \n",
    "                                 period, shock_period, k, avg_hours_0, t_0, attributes, complete_network = True)\n",
    "    vac_data = pd.DataFrame(output_abm['vacancy_data'])\n",
    "    u_data = pd.DataFrame(output_abm['unemployment_data'])\n",
    "    e_data = pd.DataFrame(output_abm['employment_data'])\n",
    "    td_data = pd.DataFrame(output_abm['target_demand_data'])\n",
    "    vac_datalist.append(vac_data)\n",
    "    u_datalist.append(u_data)\n",
    "    e_datalist.append(e_data)\n",
    "    td_datalist.append(td_data)\n",
    "    td_data.to_csv('../Data_Labour/simulation_output/c_abm_simulation_short_'+str(i)+'.csv', sep = ',', index = False)\n",
    "    vac_data.to_csv('../Data_Labour/simulation_output/c_abm_vac_simulation_short_'+str(i)+'.csv', sep = ',', index = False)\n",
    "    e_data.to_csv('../Data_Labour/simulation_output/c_abm_emp_simulation_'+str(i)+'.csv', sep = ',', index = False)\n",
    "    u_data.to_csv('../Data_Labour/simulation_output/c_abm_unemp_simulation_'+str(i)+'.csv', sep = ',', index = False)"
   ]
  },
  {
   "cell_type": "code",
   "execution_count": null,
   "metadata": {},
   "outputs": [],
   "source": []
  }
 ],
 "metadata": {
  "file_extension": ".py",
  "kernelspec": {
   "display_name": "Python 3.7.4 64-bit",
   "language": "python",
   "name": "python37464bitd863a529c1fa4d128753e3d722b9a701"
  },
  "language_info": {
   "codemirror_mode": {
    "name": "ipython",
    "version": 3
   },
   "file_extension": ".py",
   "mimetype": "text/x-python",
   "name": "python",
   "nbconvert_exporter": "python",
   "pygments_lexer": "ipython3",
   "version": "3.7.4"
  },
  "mimetype": "text/x-python",
  "name": "python",
  "npconvert_exporter": "python",
  "pygments_lexer": "ipython3",
  "version": 3
 },
 "nbformat": 4,
 "nbformat_minor": 2
}
