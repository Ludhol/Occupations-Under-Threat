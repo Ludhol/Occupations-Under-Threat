{
 "cells": [
  {
   "cell_type": "markdown",
   "metadata": {},
   "source": [
    "# Data Input and Processing\n",
    "This Jupyter Notebook contains code that takes the raw data files from Statistics Sweden and produces the files that are used in the analysis.\n",
    "\n",
    "## The data from Statistics Sweden:\n",
    "Occupational Transitions betweeen 2016 and 2017\n",
    "Seasonally adjusted vacancy and employment data between 2004 and 2019\n",
    "Seasonally and Calender adjusted unemployment data between 2004 and 2019\n",
    "Employment data by SSYK occupational code between 2016 and 2018 (THESE DATES SHOULD BE DOUBLE CHECKED)\n",
    "\n",
    "## In addition to the data from Statistics Sweden, Computerisation Probabilities from Frey & Osborne is used\n",
    "This data was developed for the american SOC (System for Occupational Classifications) and has to be translated to match Swedish data\n",
    "First the data is translated to ISCO using a key from (FINISH SENTENCE)\n",
    "Then the data is translated using a key found on Statistics Sweden's website"
   ]
  },
  {
   "cell_type": "code",
   "execution_count": 5,
   "metadata": {},
   "outputs": [],
   "source": [
    "# Required packages (check which are required)\n",
    "import matplotlib.pyplot as plt\n",
    "from matplotlib.patches import Patch\n",
    "import networkx as nx\n",
    "import pandas as pd\n",
    "import numpy as np\n",
    "import scipy as sp\n",
    "import datetime as dt\n",
    "import community\n",
    "from shapely.geometry import Polygon\n",
    "\n",
    "import statsmodels.tsa.api as tsa\n",
    "\n",
    "import random\n",
    "import math\n",
    "\n",
    "import cmocean as cmo\n",
    "\n",
    "# Write files\n",
    "\n",
    "%matplotlib inline"
   ]
  },
  {
   "cell_type": "markdown",
   "metadata": {},
   "source": [
    "# Occupational transitions and the Adjacency matrix"
   ]
  },
  {
   "cell_type": "code",
   "execution_count": 6,
   "metadata": {},
   "outputs": [
    {
     "output_type": "stream",
     "name": "stdout",
     "text": "323\n622\n"
    }
   ],
   "source": [
    "# This is where the occupation transition data (as well as occupation code keys) is imported\n",
    "\n",
    "data = pd.read_csv('../Data_Labour/swedish_occupation_transitions.csv', sep = ';', index_col = 0)\n",
    "data.index.name = None\n",
    "data = data.drop(axis = 1, labels = 'Totalsumma')\n",
    "data = data.drop(axis = 1, index = 'Totalsumma')\n",
    "last = data.index[-1]\n",
    "data = data.rename(index={last: 'NULL'})\n",
    "\n",
    "# Drop Null and '***' columns\n",
    "data = data.iloc[0:148, 0:148]\n",
    "\n",
    "# ['31', '21', '11'] Are actually meant to be '031', '021' and '011'. The 0 denotes that these are military occupations. The data from Frey and Osborne do not cover military information which means that we cannot include it in our analysis\n",
    "data.drop(labels = ['31', '21', '11'], axis = 0, inplace = True)\n",
    "data.drop(labels = ['31', '21', '11'], axis = 1, inplace = True)\n",
    "\n",
    "# This section calculates the adjacency matrix A from the raw data\n",
    "\n",
    "A = pd.DataFrame(np.zeros(data.shape), columns = data.columns, index = data.index)\n",
    "\n",
    "for i in range(data.shape[0]):\n",
    "    total = 0\n",
    "    for t in range(data.shape[1]):\n",
    "        if math.isnan(data.iloc[i,t]) != True:\n",
    "            total += data.iloc[i,t]\n",
    "        else:\n",
    "            data.iloc[i, t] = 0\n",
    "\n",
    "    for j in range(data.shape[1]):\n",
    "        T = data.iloc[i,j]\n",
    "        A.iloc[i,j] = (T/total)\n",
    "\n",
    "A.index = A.index.map(str)\n",
    "A.columns = A.columns.map(str)\n",
    "\n",
    "row_nonzeros = np.count_nonzero(A, axis=0)\n",
    "col_nonzeros = np.count_nonzero(A, axis=1)\n",
    "\n",
    "for i in range(len(row_nonzeros)):\n",
    "    if row_nonzeros[i] == col_nonzeros[i] & row_nonzeros[i] == 1:\n",
    "        print(A.columns[i])\n",
    "\n",
    "# SSYK 323 and 622 only has selfloops and are not connected to the main component of the graph -> including them or not does not make a difference in the analysis\n",
    "\n",
    "# data.drop(labels = ['323', '622'], axis = 0, inplace = True)\n",
    "# data.drop(labels = ['323', '622'], axis = 1, inplace = True)\n",
    "\n",
    "# A.drop(labels = ['323', '622'], axis = 0, inplace = True)\n",
    "# A.drop(labels = ['323', '622'], axis = 1, inplace = True)\n",
    "\n",
    "G = nx.from_pandas_adjacency(A, create_using = nx.DiGraph)\n",
    "\n",
    "data.to_csv('../Data_Labour/Occupation_transitions.csv', sep = ',')\n",
    "nx.write_graphml(G, '../Data_Labour/Occ_mob_sweden.graphml')"
   ]
  },
  {
   "cell_type": "markdown",
   "metadata": {},
   "source": [
    "# Frey & Osborne Computerisation Probabilities"
   ]
  },
  {
   "cell_type": "code",
   "execution_count": 7,
   "metadata": {},
   "outputs": [
    {
     "output_type": "stream",
     "name": "stdout",
     "text": "Computerisation Probability\nssyk3                             \n111                       0.100500\n112                       0.087500\n121                       0.069000\n122                       0.323933\n123                       0.423125\n...                            ...\n933                       0.528000\n941                       0.886250\n952                       0.920000\n961                       0.629667\n962                       0.828846\n\n[145 rows x 1 columns]\n"
    }
   ],
   "source": [
    "# This is where the automation shock data from Frey and Osborne is imported and processed between occupation classification systems\n",
    "\n",
    "frey_osborne = pd.read_csv('../Data_Labour/osborne_frey_data.csv', sep = ';', index_col = 0)\n",
    "\n",
    "SOC_shock = frey_osborne[['Probability', 'SOC code']]\n",
    "SOC_shock.columns = ['Computerisation Probability', 'soc10']\n",
    "\n",
    "for i in range(len(SOC_shock['soc10'])):\n",
    "    SOC_shock.iloc[i,1] = SOC_shock.iloc[i,1][0:2] + SOC_shock.iloc[i,1][3:7]\n",
    "    #SOC_shock.iloc[i,1] = SOC_shock.iloc[i,1]\n",
    "\n",
    "\n",
    "SOC_ISCO = pd.read_csv('../Data_Labour/soc10_isco08.csv', sep = ',')\n",
    "for i in range(len(SOC_ISCO['isco08'])):\n",
    "    SOC_ISCO.iloc[i,1] = str(SOC_ISCO.iloc[i,1])\n",
    "    SOC_ISCO.iloc[i,0] = str(SOC_ISCO.iloc[i,0])\n",
    "    # if len(SOC_ISCO.iloc[i,1]) == 3:\n",
    "    #     SOC_ISCO.iloc[i,1] = '0' + SOC_ISCO.iloc[i,1]\n",
    "\n",
    "ISCO_SSYK = pd.read_csv('../Data_Labour/nyckel_ssyk2012_isco-08.csv', sep = ';')\n",
    "ISCO_SSYK = ISCO_SSYK[['SSYK 2012 kod','ISCO-08 ']]\n",
    "ISCO_SSYK.columns = ['ssyk12', 'isco08']\n",
    "\n",
    "for i in range(len(ISCO_SSYK['isco08'])):\n",
    "    ISCO_SSYK.iloc[i,1] = str(ISCO_SSYK.iloc[i,1])\n",
    "    ISCO_SSYK.iloc[i,0] = str(ISCO_SSYK.iloc[i,0])\n",
    "\n",
    "\n",
    "# The file above contains many duplicates\n",
    "ISCO_SSYK.drop_duplicates(inplace=True)\n",
    "\n",
    "# Below transfers SOC_shock to SSYK_shock\n",
    "ISCO_shock = pd.merge(SOC_shock, SOC_ISCO, on = 'soc10')\n",
    "\n",
    "SSYK_shock = pd.merge(ISCO_shock, ISCO_SSYK, on = 'isco08')\n",
    "\n",
    "\n",
    "# The codes are 4 level need to be 3 level. Only need to change final table (SSYK_shock)\n",
    "SSYK_shock['ssyk3'] =  [code[0:3] for code in SSYK_shock['ssyk12']]\n",
    "\n",
    "SSYK3_shock = SSYK_shock[['Computerisation Probability', 'ssyk3']]\n",
    "SSYK3 = list(SSYK3_shock['ssyk3'])\n",
    "\n",
    "SSYK3_shock = SSYK3_shock.groupby(['ssyk3']).mean()\n",
    "\n",
    "print(SSYK3_shock)\n",
    "G = nx.from_pandas_adjacency(A, create_using = nx.DiGraph)\n",
    "SSYK3_fromnw = list(G.nodes)\n",
    "SSYK3_fromnw = [str(node) for node in SSYK3_fromnw]\n",
    "\n",
    "SSYK3_shock.to_csv('../Data_Labour/occupation_shock.csv', sep = ',')\n",
    "\n",
    "# PRoblem is that certain SOC codes in osborne frey have been abbreviated with 0s. Which makes the matching miss a few rows\n",
    "# This problem can be fixed\n",
    "\n",
    "# SOC codes that are not found in the SOC-ISCO translation file\n",
    "# print(set(SOC_shock['soc10'])-set(SOC_ISCO['soc10']))\n",
    "# {'292037', '292055', '499799', '291060', '394831', '319799', '292799', '251000', '253999', '151179', '474799', '131078', '452090', '299799', '151150', '151799', '519399', '291111'}\n",
    "\n",
    "# Focus on '251000', '151150', '291060'\n",
    "# 291060 solves 221 because 291060 doesnt exist in soc_isco\n",
    "# 291141, 291151, 291171, 291161 <- 222\n",
    "# 29-1111 is not used anymore, 29-1141 should be used instead: https://www.onetonline.org/find/quick?s=29-1111\n",
    "\n",
    "# 231 ssyk: soc_isco översätter till isco 2310 som inte existerar i isco_ssyk nykeln där det istället är 231X. Bör alltså gå att lösa\n",
    "# 251000: Post-secondary teachers is translated as 2310 SSYK\n",
    "\n",
    "# SSYK codes not found in ISCO-SSYK translation file\n",
    "# print(list(set(SSYK3_fromnw) - set(SSYK3)))\n",
    "# ['221', '21', '11', '222', '231', '31']\n",
    "# ['21', '11', '31'] are military occupations and we do not have computersiation probabilities for these\n",
    "\n",
    "# focus on ['221', '222', '231']\n",
    ""
   ]
  },
  {
   "cell_type": "code",
   "execution_count": null,
   "metadata": {},
   "outputs": [],
   "source": []
  },
  {
   "cell_type": "markdown",
   "metadata": {},
   "source": [
    "# Deviations from potential GDP from Konjunktur Institutet"
   ]
  },
  {
   "cell_type": "code",
   "execution_count": 8,
   "metadata": {},
   "outputs": [],
   "source": [
    "gdp_gap = pd.read_csv('../Data_Labour/bnp-gap.csv', sep = ';')\n",
    "gdp_gap['Qtr'] = pd.to_datetime(gdp_gap.date).dt.quarter\n",
    "gdp_gap['date'] = [gdp_gap['date'].iloc[i][0:4] + 'Q' + str(gdp_gap['Qtr'].iloc[i]) for i in range(len(gdp_gap['date']))]\n",
    "gdp_gap['recession'] = [1 if gap <= 0 else 0 for gap in list(gdp_gap['BNP-gap'])]\n",
    "gap_offset = zip(gdp_gap['BNP-gap'].iloc[1:],gdp_gap['BNP-gap'].iloc[:-1])\n",
    "change_ls = [(gap_t1 - gap_t0)/gap_t0 for gap_t1, gap_t0 in gap_offset]\n",
    "change_ls.insert(0,float('NaN'))\n",
    "gdp_gap['gap_change'] = change_ls\n",
    "gdp_gap.rename(columns = {'BNP-gap': 'gdp_gap'}, inplace = True)"
   ]
  },
  {
   "cell_type": "markdown",
   "metadata": {},
   "source": [
    "# Data from Statistics Sweden"
   ]
  },
  {
   "cell_type": "code",
   "execution_count": 9,
   "metadata": {},
   "outputs": [],
   "source": [
    "# Data for calibrating and setting up the model\n",
    "employment_SSYK = pd.read_csv('../Data_Labour/employment_SSYK.csv', sep = ',')\n",
    "employment_SSYK.rename(columns = {'Yrke (SSYK 2012)':'SSYK'}, inplace = True)\n",
    "employment_SSYK.to_csv('../Data_Labour/occupational_employment.csv', sep = ',')\n",
    "# SSYK code and years as columns\n",
    "\n",
    "# New calibration data - seasonally adjusted\n",
    "employment_sa = pd.read_csv('../Data_Labour/employment_quarterly.csv', sep = ';')\n",
    "employment_sa['date'] = [str(2000 + employment_sa['year'].iloc[i])+'Q'+str(employment_sa['quarter'].iloc[i]) for i in range(len(employment_sa))]\n",
    "employment_sa = employment_sa[['date', 'e_sa', 'e_trend']]\n",
    "employment_sa['e_sa'] = [int(float(string.replace(',','.'))*1000) for string in employment_sa['e_sa']]\n",
    "employment_sa['e_trend'] = [int(float(string.replace(',','.'))*1000) for string in employment_sa['e_trend']]\n",
    "\n",
    "\n",
    "unemployment_all = pd.read_csv('../Data_Labour/unemployment_quarterly.csv', sep = ';')\n",
    "unemployment_all['date'] = [str(2000 + unemployment_all['year'].iloc[i])+'Q'+str(unemployment_all['quarter'].iloc[i]) for i in range(len(unemployment_all))]\n",
    "unemployment_sa = unemployment_all[['date', 'u_sa', 'u_trend']]\n",
    "\n",
    "unemployment_sa['u_sa'] = [float(string.replace(',','.')) for string in unemployment_sa['u_sa']]\n",
    "unemployment_sa['u_trend'] = [float(string.replace(',','.')) for string in unemployment_sa['u_trend']]\n",
    "\n",
    "vac_rate_all = pd.read_csv('../Data_Labour/Vacancy Data/sa_2004-2019.csv', sep = ';')\n",
    "\n",
    "sa_calibration_data = pd.merge(unemployment_sa, vac_rate_all[['date', 'sa_vac', 'na_vac']], on ='date')\n",
    "sa_calibration_data = pd.merge(sa_calibration_data, employment_sa, on = 'date')\n",
    "sa_calibration_data = pd.merge(sa_calibration_data, gdp_gap[['date', 'recession', 'gap_change']], on = 'date')\n",
    "\n",
    "sa_calibration_data['sa_vac_rate'] = sa_calibration_data['sa_vac']*100/(sa_calibration_data['e_trend']+sa_calibration_data['sa_vac'])\n",
    "\n",
    "sa_calibration_data.to_csv('../Data_Labour/calibration_data.csv', sep = ',')\n",
    ""
   ]
  },
  {
   "cell_type": "markdown",
   "metadata": {},
   "source": [
    "# Hours worked data (from Statistics Sweden)"
   ]
  },
  {
   "cell_type": "code",
   "execution_count": 10,
   "metadata": {},
   "outputs": [],
   "source": [
    "hours_worked = pd.read_csv('../Data_Labour/hours_worked_sa.csv', sep =',')"
   ]
  },
  {
   "cell_type": "code",
   "execution_count": 11,
   "metadata": {},
   "outputs": [
    {
     "output_type": "execute_result",
     "data": {
      "text/plain": "     SSYK    2014    2015    2016    2017    2018\n0      11     875    1550    1367    1192    1116\n1      21    2173    1344    1133     916     828\n2      31    7387    6811    6349    6169    5849\n3     111    3876    3676    3889    3921    3028\n4     112   22860   23000   24598   22676   21895\n..    ...     ...     ...     ...     ...     ...\n144   941   68912   77998   77340   79024   79038\n145   952     121     142     149     157     190\n146   961    8379    8622    8875    8819    9000\n147   962   38426   38701   39224   39889   39719\n148     2  286298  237953  232947  209917  198085\n\n[149 rows x 6 columns]",
      "text/html": "<div>\n<style scoped>\n    .dataframe tbody tr th:only-of-type {\n        vertical-align: middle;\n    }\n\n    .dataframe tbody tr th {\n        vertical-align: top;\n    }\n\n    .dataframe thead th {\n        text-align: right;\n    }\n</style>\n<table border=\"1\" class=\"dataframe\">\n  <thead>\n    <tr style=\"text-align: right;\">\n      <th></th>\n      <th>SSYK</th>\n      <th>2014</th>\n      <th>2015</th>\n      <th>2016</th>\n      <th>2017</th>\n      <th>2018</th>\n    </tr>\n  </thead>\n  <tbody>\n    <tr>\n      <th>0</th>\n      <td>11</td>\n      <td>875</td>\n      <td>1550</td>\n      <td>1367</td>\n      <td>1192</td>\n      <td>1116</td>\n    </tr>\n    <tr>\n      <th>1</th>\n      <td>21</td>\n      <td>2173</td>\n      <td>1344</td>\n      <td>1133</td>\n      <td>916</td>\n      <td>828</td>\n    </tr>\n    <tr>\n      <th>2</th>\n      <td>31</td>\n      <td>7387</td>\n      <td>6811</td>\n      <td>6349</td>\n      <td>6169</td>\n      <td>5849</td>\n    </tr>\n    <tr>\n      <th>3</th>\n      <td>111</td>\n      <td>3876</td>\n      <td>3676</td>\n      <td>3889</td>\n      <td>3921</td>\n      <td>3028</td>\n    </tr>\n    <tr>\n      <th>4</th>\n      <td>112</td>\n      <td>22860</td>\n      <td>23000</td>\n      <td>24598</td>\n      <td>22676</td>\n      <td>21895</td>\n    </tr>\n    <tr>\n      <th>...</th>\n      <td>...</td>\n      <td>...</td>\n      <td>...</td>\n      <td>...</td>\n      <td>...</td>\n      <td>...</td>\n    </tr>\n    <tr>\n      <th>144</th>\n      <td>941</td>\n      <td>68912</td>\n      <td>77998</td>\n      <td>77340</td>\n      <td>79024</td>\n      <td>79038</td>\n    </tr>\n    <tr>\n      <th>145</th>\n      <td>952</td>\n      <td>121</td>\n      <td>142</td>\n      <td>149</td>\n      <td>157</td>\n      <td>190</td>\n    </tr>\n    <tr>\n      <th>146</th>\n      <td>961</td>\n      <td>8379</td>\n      <td>8622</td>\n      <td>8875</td>\n      <td>8819</td>\n      <td>9000</td>\n    </tr>\n    <tr>\n      <th>147</th>\n      <td>962</td>\n      <td>38426</td>\n      <td>38701</td>\n      <td>39224</td>\n      <td>39889</td>\n      <td>39719</td>\n    </tr>\n    <tr>\n      <th>148</th>\n      <td>2</td>\n      <td>286298</td>\n      <td>237953</td>\n      <td>232947</td>\n      <td>209917</td>\n      <td>198085</td>\n    </tr>\n  </tbody>\n</table>\n<p>149 rows × 6 columns</p>\n</div>"
     },
     "metadata": {},
     "execution_count": 11
    }
   ],
   "source": [
    "employment_SSYK"
   ]
  },
  {
   "cell_type": "code",
   "execution_count": 13,
   "metadata": {},
   "outputs": [
    {
     "output_type": "execute_result",
     "data": {
      "text/plain": "      date  u_sa  u_trend  sa_vac  na_vac     e_sa  e_trend  recession  \\\n50  2016Q3   6.8     6.89   99220   83466  4903900  4917590          0   \n51  2016Q4   6.9     6.82  106052   92201  4946200  4946880          0   \n52  2017Q1   6.7     6.77  108648  127413  4990100  4981000          0   \n53  2017Q2   6.7     6.72  109136  120983  5009300  5011040          0   \n54  2017Q3   6.7     6.64  114174   97724  5037600  5034600          0   \n55  2017Q4   6.5     6.47  117079  101456  5049900  5057370          0   \n56  2018Q1   6.2     6.31  120431  140586  5080600  5078690          0   \n57  2018Q2   6.3     6.26  120501  133526  5095400  5093580          0   \n58  2018Q3   6.4     6.33  120592  103403  5096900  5102530          0   \n59  2018Q4   6.4     6.46  120861  103726  5114500  5108280          0   \n60  2019Q1   6.8     6.62  122679  143769  5115800  5113630          0   \n61  2019Q2   6.5     6.77  122679  136739  5121300  5121390          0   \n62  2019Q3   6.9     6.85  116940   99187  5134000  5133770          0   \n63  2019Q4   6.8     6.86  114620   96569  5152500  5150320          0   \n\n    gap_change  sa_vac_rate  \n50   -0.098074     1.977751  \n51    0.219768     2.098821  \n52   -0.392544     2.134686  \n53    2.170210     2.131489  \n54    0.693989     2.217499  \n55   -0.199542     2.262637  \n56    0.197776     2.316372  \n57    0.105424     2.311069  \n58   -0.633403     2.308811  \n59    1.224554     2.311297  \n60   -0.358062     2.342853  \n61   -0.319070     2.339386  \n62   -0.194320     2.227127  \n63   -0.657539     2.177043  ",
      "text/html": "<div>\n<style scoped>\n    .dataframe tbody tr th:only-of-type {\n        vertical-align: middle;\n    }\n\n    .dataframe tbody tr th {\n        vertical-align: top;\n    }\n\n    .dataframe thead th {\n        text-align: right;\n    }\n</style>\n<table border=\"1\" class=\"dataframe\">\n  <thead>\n    <tr style=\"text-align: right;\">\n      <th></th>\n      <th>date</th>\n      <th>u_sa</th>\n      <th>u_trend</th>\n      <th>sa_vac</th>\n      <th>na_vac</th>\n      <th>e_sa</th>\n      <th>e_trend</th>\n      <th>recession</th>\n      <th>gap_change</th>\n      <th>sa_vac_rate</th>\n    </tr>\n  </thead>\n  <tbody>\n    <tr>\n      <th>50</th>\n      <td>2016Q3</td>\n      <td>6.8</td>\n      <td>6.89</td>\n      <td>99220</td>\n      <td>83466</td>\n      <td>4903900</td>\n      <td>4917590</td>\n      <td>0</td>\n      <td>-0.098074</td>\n      <td>1.977751</td>\n    </tr>\n    <tr>\n      <th>51</th>\n      <td>2016Q4</td>\n      <td>6.9</td>\n      <td>6.82</td>\n      <td>106052</td>\n      <td>92201</td>\n      <td>4946200</td>\n      <td>4946880</td>\n      <td>0</td>\n      <td>0.219768</td>\n      <td>2.098821</td>\n    </tr>\n    <tr>\n      <th>52</th>\n      <td>2017Q1</td>\n      <td>6.7</td>\n      <td>6.77</td>\n      <td>108648</td>\n      <td>127413</td>\n      <td>4990100</td>\n      <td>4981000</td>\n      <td>0</td>\n      <td>-0.392544</td>\n      <td>2.134686</td>\n    </tr>\n    <tr>\n      <th>53</th>\n      <td>2017Q2</td>\n      <td>6.7</td>\n      <td>6.72</td>\n      <td>109136</td>\n      <td>120983</td>\n      <td>5009300</td>\n      <td>5011040</td>\n      <td>0</td>\n      <td>2.170210</td>\n      <td>2.131489</td>\n    </tr>\n    <tr>\n      <th>54</th>\n      <td>2017Q3</td>\n      <td>6.7</td>\n      <td>6.64</td>\n      <td>114174</td>\n      <td>97724</td>\n      <td>5037600</td>\n      <td>5034600</td>\n      <td>0</td>\n      <td>0.693989</td>\n      <td>2.217499</td>\n    </tr>\n    <tr>\n      <th>55</th>\n      <td>2017Q4</td>\n      <td>6.5</td>\n      <td>6.47</td>\n      <td>117079</td>\n      <td>101456</td>\n      <td>5049900</td>\n      <td>5057370</td>\n      <td>0</td>\n      <td>-0.199542</td>\n      <td>2.262637</td>\n    </tr>\n    <tr>\n      <th>56</th>\n      <td>2018Q1</td>\n      <td>6.2</td>\n      <td>6.31</td>\n      <td>120431</td>\n      <td>140586</td>\n      <td>5080600</td>\n      <td>5078690</td>\n      <td>0</td>\n      <td>0.197776</td>\n      <td>2.316372</td>\n    </tr>\n    <tr>\n      <th>57</th>\n      <td>2018Q2</td>\n      <td>6.3</td>\n      <td>6.26</td>\n      <td>120501</td>\n      <td>133526</td>\n      <td>5095400</td>\n      <td>5093580</td>\n      <td>0</td>\n      <td>0.105424</td>\n      <td>2.311069</td>\n    </tr>\n    <tr>\n      <th>58</th>\n      <td>2018Q3</td>\n      <td>6.4</td>\n      <td>6.33</td>\n      <td>120592</td>\n      <td>103403</td>\n      <td>5096900</td>\n      <td>5102530</td>\n      <td>0</td>\n      <td>-0.633403</td>\n      <td>2.308811</td>\n    </tr>\n    <tr>\n      <th>59</th>\n      <td>2018Q4</td>\n      <td>6.4</td>\n      <td>6.46</td>\n      <td>120861</td>\n      <td>103726</td>\n      <td>5114500</td>\n      <td>5108280</td>\n      <td>0</td>\n      <td>1.224554</td>\n      <td>2.311297</td>\n    </tr>\n    <tr>\n      <th>60</th>\n      <td>2019Q1</td>\n      <td>6.8</td>\n      <td>6.62</td>\n      <td>122679</td>\n      <td>143769</td>\n      <td>5115800</td>\n      <td>5113630</td>\n      <td>0</td>\n      <td>-0.358062</td>\n      <td>2.342853</td>\n    </tr>\n    <tr>\n      <th>61</th>\n      <td>2019Q2</td>\n      <td>6.5</td>\n      <td>6.77</td>\n      <td>122679</td>\n      <td>136739</td>\n      <td>5121300</td>\n      <td>5121390</td>\n      <td>0</td>\n      <td>-0.319070</td>\n      <td>2.339386</td>\n    </tr>\n    <tr>\n      <th>62</th>\n      <td>2019Q3</td>\n      <td>6.9</td>\n      <td>6.85</td>\n      <td>116940</td>\n      <td>99187</td>\n      <td>5134000</td>\n      <td>5133770</td>\n      <td>0</td>\n      <td>-0.194320</td>\n      <td>2.227127</td>\n    </tr>\n    <tr>\n      <th>63</th>\n      <td>2019Q4</td>\n      <td>6.8</td>\n      <td>6.86</td>\n      <td>114620</td>\n      <td>96569</td>\n      <td>5152500</td>\n      <td>5150320</td>\n      <td>0</td>\n      <td>-0.657539</td>\n      <td>2.177043</td>\n    </tr>\n  </tbody>\n</table>\n</div>"
     },
     "metadata": {},
     "execution_count": 13
    }
   ],
   "source": [
    "sa_calibration_data.iloc[50:]"
   ]
  },
  {
   "cell_type": "code",
   "execution_count": null,
   "metadata": {},
   "outputs": [],
   "source": []
  }
 ],
 "metadata": {
  "language_info": {
   "name": "python",
   "codemirror_mode": {
    "name": "ipython",
    "version": 3
   },
   "version": "3.7.4-final"
  },
  "orig_nbformat": 2,
  "file_extension": ".py",
  "mimetype": "text/x-python",
  "name": "python",
  "npconvert_exporter": "python",
  "pygments_lexer": "ipython3",
  "version": 3,
  "kernelspec": {
   "name": "python37464bitd863a529c1fa4d128753e3d722b9a701",
   "display_name": "Python 3.7.4 64-bit"
  }
 },
 "nbformat": 4,
 "nbformat_minor": 2
}