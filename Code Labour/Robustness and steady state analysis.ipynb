{
 "cells": [
  {
   "cell_type": "code",
   "execution_count": 66,
   "metadata": {},
   "outputs": [],
   "source": [
    "# Required packages (check which are required)\n",
    "import matplotlib.pyplot as plt\n",
    "from matplotlib.patches import Patch\n",
    "import networkx as nx\n",
    "import pandas as pd\n",
    "import numpy as np\n",
    "import scipy as sp\n",
    "import datetime as dt\n",
    "import community\n",
    "from shapely.geometry import Polygon\n",
    "\n",
    "\n",
    "import importlib\n",
    "import ddom\n",
    "\n",
    "import random\n",
    "import math\n",
    "\n",
    "import cmocean as cmo"
   ]
  },
  {
   "cell_type": "code",
   "execution_count": 67,
   "metadata": {},
   "outputs": [],
   "source": [
    "# Read the data from data_processing.ipynb\n",
    "sa_calibration_data = pd.read_csv('../Data_Labour/calibration_data.csv')\n",
    "employment_SSYK = pd.read_csv('../Data_Labour/occupational_employment.csv', sep = ',')\n",
    "SSYK_shock = pd.read_csv('../Data_Labour/occupation_shock.csv', sep = ',', index_col = 0)\n",
    "hours_data = pd.read_csv('../Data_Labour/hours_data.csv', sep = ',', index_col = 0)\n",
    "\n",
    "G = nx.read_graphml('../Data_Labour/Occ_mob_sweden.graphml')"
   ]
  },
  {
   "cell_type": "code",
   "execution_count": 74,
   "metadata": {},
   "outputs": [
    {
     "name": "stdout",
     "output_type": "stream",
     "text": [
      "Simulation started at:  2020-05-16 21:07:31.070556\n",
      "Simulation took:  0:25:20.756653\n"
     ]
    }
   ],
   "source": [
    "importlib.reload(ddom)\n",
    "employment = employment_SSYK[['ssyk3', '2016']]\n",
    "employment = {str(employment['ssyk3'].iloc[i]):employment['2016'].iloc[i] for i in range(len(employment))}\n",
    "node_names = G.nodes()\n",
    "\n",
    "# setup network\n",
    "employed = {str(name):e for name,e in employment.items() if str(name) in node_names}\n",
    "unemployed = {name:0 for name in node_names}\n",
    "vacancies = {name:0 for name in node_names}\n",
    "\n",
    "target_demand = {str(name):e for name,e in employment.items() if str(name) in node_names}\n",
    "of_data = SSYK_shock.to_dict()['Computerisation Probability']\n",
    "of_data = {str(code):prob for code, prob in of_data.items()}\n",
    "\n",
    "attributes = {'employed':employed, 'unemployed':unemployed, 'vacancies':vacancies,\n",
    "                'target_demand':target_demand, 'comp_prob':of_data}\n",
    "\n",
    "# Parameters short calibration\n",
    "#delta_u = 0.009\n",
    "#delta_nu = 0.002\n",
    "#gamma_u = 0.1\n",
    "#gamma_nu = gamma_u\n",
    "#timestep = 14\n",
    "\n",
    "# Paramters long calibration (currently running)\n",
    "a = 0.035\n",
    "delta_u = 0.011\n",
    "delta_nu = 0.005\n",
    "gamma_u = 0.1\n",
    "gamma_nu = gamma_u\n",
    "timestep = 8\n",
    "\n",
    "period = 10.25\n",
    "k = 0.79\n",
    "avg_hours_0 = hours_data.loc[2016,'average_hours/year']\n",
    "\n",
    "output = {}\n",
    "\n",
    "for shock_period in [30]:\n",
    "    output[str(shock_period)] = ddom.deterministic_simulation(G, delta_u, delta_nu, gamma_u, gamma_nu, \n",
    "                                       timestep, period, attributes, shock_period = shock_period, k = k, \n",
    "                                        avg_hours_0 = avg_hours_0, \n",
    "                                       t_0 = shock_period/2, complete_network = True)"
   ]
  },
  {
   "cell_type": "code",
   "execution_count": 75,
   "metadata": {},
   "outputs": [],
   "source": [
    "for period, out in output.items():\n",
    "    vac_data = pd.DataFrame(out['vacancy_data'])\n",
    "    u_data = pd.DataFrame(out['unemployment_data'])\n",
    "    e_data = pd.DataFrame(out['employment_data'])\n",
    "    td_data = pd.DataFrame(out['target_demand_data'])\n",
    "    td_data.to_csv('../Data_Labour/simulation_output/c_td_simulation_'+period+'.csv', sep = ',', index = False)\n",
    "    vac_data.to_csv('../Data_Labour/simulation_output/c_vac_simulation_'+period+'.csv', sep = ',', index = False)\n",
    "    e_data.to_csv('../Data_Labour/simulation_output/c_emp_simulation_'+period+'.csv', sep = ',', index = False)\n",
    "    u_data.to_csv('../Data_Labour/simulation_output/c_unemp_simulation_'+period+'.csv', sep = ',', index = False)"
   ]
  },
  {
   "cell_type": "code",
   "execution_count": 59,
   "metadata": {},
   "outputs": [],
   "source": [
    "for period, out in output.items():\n",
    "    vac_data = pd.DataFrame(out['vacancy_data'])\n",
    "    u_data = pd.DataFrame(out['unemployment_data'])\n",
    "    e_data = pd.DataFrame(out['employment_data'])\n",
    "    td_data = pd.DataFrame(out['target_demand_data'])\n",
    "    td_data.to_csv('../Data_Labour/simulation_output/short_robust_td_simulation_'+period+'.csv', sep = ',', index = False)\n",
    "    vac_data.to_csv('../Data_Labour/simulation_output/short_robust_vac_simulation_'+period+'.csv', sep = ',', index = False)\n",
    "    e_data.to_csv('../Data_Labour/simulation_output/short_robust_emp_simulation_'+period+'.csv', sep = ',', index = False)\n",
    "    u_data.to_csv('../Data_Labour/simulation_output/short_robust_unemp_simulation_'+period+'.csv', sep = ',', index = False)"
   ]
  },
  {
   "cell_type": "code",
   "execution_count": null,
   "metadata": {},
   "outputs": [
    {
     "name": "stdout",
     "output_type": "stream",
     "text": [
      "Simulation started at:  2020-05-16 22:52:00.070637\n"
     ]
    }
   ],
   "source": [
    "employment = employment_SSYK[['ssyk3', '2016']]\n",
    "employment = {str(employment['ssyk3'].iloc[i]):employment['2016'].iloc[i] for i in range(len(employment))}\n",
    "node_names = G.nodes()\n",
    "\n",
    "importlib.reload(ddom)\n",
    "\n",
    "\n",
    "# setup network\n",
    "employed = {str(name):e for name,e in employment.items() if str(name) in node_names}\n",
    "unemployed = {name:0 for name in node_names}\n",
    "vacancies = {name:[] for name in node_names}\n",
    "\n",
    "target_demand = {str(name):e for name,e in employment.items() if str(name) in node_names}\n",
    "of_data = SSYK_shock.to_dict()['Computerisation Probability']\n",
    "of_data = {str(code):prob for code, prob in of_data.items()}\n",
    "\n",
    "attributes = {'employed':employed, 'unemployed':unemployed, 'vacancies':vacancies,\n",
    "                'target_demand':target_demand, 'comp_prob':of_data}\n",
    "\n",
    "# Parameters short calibration\n",
    "#delta_u = 0.009\n",
    "#delta_nu = 0.002\n",
    "#gamma_u = 0.1\n",
    "#gamma_nu = gamma_u\n",
    "#timestep = 14\n",
    "\n",
    "# Paramters long calibration (currently running)\n",
    "delta_u = 0.011\n",
    "delta_nu = 0.005\n",
    "gamma_u = 0.1\n",
    "gamma_nu = gamma_u\n",
    "timestep = 8\n",
    "\n",
    "# General parameters\n",
    "period = 10.25\n",
    "shock_period = 30\n",
    "k = 0.79\n",
    "avg_hours_0 = hours_data.loc[2016,'average_hours/year']\n",
    "t_0 = shock_period/2\n",
    "\n",
    "vac_datalist = []\n",
    "u_datalist = []\n",
    "e_datalist = []\n",
    "td_datalist = []\n",
    "lt_u_datalist = []\n",
    "\n",
    "for i in range(1,6):\n",
    "    output_abm = ddom.simulation(G, delta_u, delta_nu, gamma_u, gamma_nu, timestep, \n",
    "                                 period, shock_period, k, avg_hours_0, t_0, attributes, complete_network = True)\n",
    "    vac_data = pd.DataFrame(output_abm['vacancy_data'])\n",
    "    u_data = pd.DataFrame(output_abm['unemployment_data'])\n",
    "    e_data = pd.DataFrame(output_abm['employment_data'])\n",
    "    td_data = pd.DataFrame(output_abm['target_demand_data'])\n",
    "    vac_datalist.append(vac_data)\n",
    "    u_datalist.append(u_data)\n",
    "    e_datalist.append(e_data)\n",
    "    td_datalist.append(td_data)\n",
    "    vac_data.to_csv('../Data_Labour/simulation_output/c_vac_simulation_'+str(i)+'.csv', sep = ',', index = False)\n",
    "    e_data.to_csv('../Data_Labour/simulation_output/c_emp_simulation_'+str(i)+'.csv', sep = ',', index = False)\n",
    "    u_data.to_csv('../Data_Labour/simulation_output/c_unemp_simulation_'+str(i)+'.csv', sep = ',', index = False)\n",
    "    \n",
    "    "
   ]
  },
  {
   "cell_type": "code",
   "execution_count": null,
   "metadata": {},
   "outputs": [],
   "source": []
  }
 ],
 "metadata": {
  "kernelspec": {
   "display_name": "Python 3.7.4 64-bit",
   "language": "python",
   "name": "python37464bitd863a529c1fa4d128753e3d722b9a701"
  },
  "language_info": {
   "codemirror_mode": {
    "name": "ipython",
    "version": 3
   },
   "file_extension": ".py",
   "mimetype": "text/x-python",
   "name": "python",
   "nbconvert_exporter": "python",
   "pygments_lexer": "ipython3",
   "version": "3.7.4"
  }
 },
 "nbformat": 4,
 "nbformat_minor": 2
}
